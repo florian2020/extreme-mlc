{
 "cells": [
  {
   "cell_type": "markdown",
   "id": "ee39daed",
   "metadata": {},
   "source": [
    "# Toy Example of AttentionXML Model\n",
    "\n",
    "## Requirements\n",
    "This notebook uses the following non-standard python packages:\n",
    "* pytorch\n",
    "* treelib"
   ]
  },
  {
   "cell_type": "code",
   "execution_count": 1,
   "id": "caaea87f",
   "metadata": {},
   "outputs": [],
   "source": [
    "import os\n",
    "import treelib\n",
    "import torch\n",
    "import torch.nn as nn\n",
    "import torch.nn.functional as F\n",
    "from torch.utils.data import TensorDataset, DataLoader\n",
    "from itertools import chain\n",
    "from dataclasses import dataclass\n",
    "from typing import Tuple, Callable, Iterator, Any"
   ]
  },
  {
   "cell_type": "code",
   "execution_count": 2,
   "id": "06d2cc11",
   "metadata": {},
   "outputs": [],
   "source": [
    "# add base directory to path\n",
    "if '../' not in os.sys.path:\n",
    "    os.sys.path.insert(0, '../')\n",
    "# import extreme multi label stuff\n",
    "from xmlc.dataset import XMLDataset\n",
    "from xmlc.modules import MLP, Attention, PLTHierarchy\n",
    "from xmlc.metrics import precision\n",
    "from xmlc.tree_utils import index_tree, convert_labels_to_ids"
   ]
  },
  {
   "cell_type": "markdown",
   "id": "15d3a415",
   "metadata": {},
   "source": [
    "## Build an example tree"
   ]
  },
  {
   "cell_type": "code",
   "execution_count": 3,
   "id": "3b167ee2",
   "metadata": {},
   "outputs": [],
   "source": [
    "tree = treelib.Tree()\n",
    "# add root node\n",
    "root = tree.create_node(\"Root\", \"Root\")\n",
    "# layer 1\n",
    "nodeA = tree.create_node(\"A\", \"A\", parent=root)\n",
    "nodeB = tree.create_node(\"B\", \"B\", parent=root)\n",
    "nodeC = tree.create_node(\"C\", \"C\", parent=root)\n",
    "# leaves of A\n",
    "_ = tree.create_node(\"A1\", \"A1\", parent=nodeA)\n",
    "_ = tree.create_node(\"A2\", \"A2\", parent=nodeA)\n",
    "_ = tree.create_node(\"A3\", \"A3\", parent=nodeA)\n",
    "# leaves of B\n",
    "_ = tree.create_node(\"B1\", \"B1\", parent=nodeB)\n",
    "_ = tree.create_node(\"B2\", \"B2\", parent=nodeB)\n",
    "_ = tree.create_node(\"B3\", \"B3\", parent=nodeB)\n",
    "_ = tree.create_node(\"B4\", \"B4\", parent=nodeB)\n",
    "# leaves of C\n",
    "_ = tree.create_node(\"C1\", \"C1\", parent=nodeC)\n",
    "_ = tree.create_node(\"C2\", \"C2\", parent=nodeC)"
   ]
  },
  {
   "cell_type": "code",
   "execution_count": 4,
   "id": "cf2773ac",
   "metadata": {},
   "outputs": [
    {
     "name": "stdout",
     "output_type": "stream",
     "text": [
      "Root\n",
      "├── A\n",
      "│   ├── A1\n",
      "│   ├── A2\n",
      "│   └── A3\n",
      "├── B\n",
      "│   ├── B1\n",
      "│   ├── B2\n",
      "│   ├── B3\n",
      "│   └── B4\n",
      "└── C\n",
      "    ├── C1\n",
      "    └── C2\n",
      "\n"
     ]
    }
   ],
   "source": [
    "# show the tree\n",
    "tree.show()"
   ]
  },
  {
   "cell_type": "code",
   "execution_count": 5,
   "id": "cd709fb2",
   "metadata": {},
   "outputs": [
    {
     "name": "stdout",
     "output_type": "stream",
     "text": [
      "Depth:       2\n",
      "Totel nodes: 13\n",
      "Inner nodes: 4\n"
     ]
    }
   ],
   "source": [
    "print(\"Depth:      \", tree.depth())\n",
    "print(\"Totel nodes:\", len(tree.all_nodes()))\n",
    "print(\"Inner nodes:\", len(tree.all_nodes()) - len(tree.leaves()))"
   ]
  },
  {
   "cell_type": "code",
   "execution_count": 6,
   "id": "e0b522c9",
   "metadata": {},
   "outputs": [
    {
     "name": "stdout",
     "output_type": "stream",
     "text": [
      "0[Root]\n",
      "├── 0[A]\n",
      "│   ├── 0[A1]\n",
      "│   ├── 1[A2]\n",
      "│   └── 2[A3]\n",
      "├── 1[B]\n",
      "│   ├── 3[B1]\n",
      "│   ├── 4[B2]\n",
      "│   ├── 5[B3]\n",
      "│   └── 6[B4]\n",
      "└── 2[C]\n",
      "    ├── 7[C1]\n",
      "    └── 8[C2]\n",
      "\n"
     ]
    }
   ],
   "source": [
    "tree = index_tree(tree)\n",
    "tree.show(data_property='level_index', idhidden=False)"
   ]
  },
  {
   "cell_type": "markdown",
   "id": "0f4a7533",
   "metadata": {},
   "source": [
    "## Build some toy dataset"
   ]
  },
  {
   "cell_type": "code",
   "execution_count": 7,
   "id": "26d0c91a",
   "metadata": {},
   "outputs": [],
   "source": [
    "# sample target labels\n",
    "target_labels = [\n",
    "    [\"A1\", \"B1\"],\n",
    "    [\"C2\"],\n",
    "    [\"A2\", \"A3\", \"B1\", \"C1\"],\n",
    "    [\"A3\", \"B4\", \"C1\"],\n",
    "    [\"A2\", \"B2\", \"B3\"],\n",
    "    [\"B4\"]\n",
    "]\n",
    "# sample input\n",
    "n_examples = len(target_labels)\n",
    "x = torch.rand((n_examples, 8, 64))\n",
    "# and a sample input mask\n",
    "input_mask = torch.ones(x.size()[:2], dtype=bool)"
   ]
  },
  {
   "cell_type": "code",
   "execution_count": 8,
   "id": "255f5f42",
   "metadata": {},
   "outputs": [],
   "source": [
    "# build train and test datasets\n",
    "data = XMLDataset(\n",
    "    input_dataset=TensorDataset(x, input_mask),\n",
    "    labels=convert_labels_to_ids(tree, target_labels),\n",
    "    num_candidates=6\n",
    ")\n",
    "loader = DataLoader(data, batch_size=2)"
   ]
  },
  {
   "cell_type": "markdown",
   "id": "4e9a56a2",
   "metadata": {},
   "source": [
    "## Model"
   ]
  },
  {
   "cell_type": "code",
   "execution_count": 9,
   "id": "39a5b6af",
   "metadata": {},
   "outputs": [],
   "source": [
    "model = PLTHierarchy(\n",
    "    hidden_size=64,\n",
    "    num_labels=9,\n",
    "    attention=Attention(),\n",
    "    classifier=MLP(64, 32, 1)\n",
    ")\n",
    "optim = torch.optim.Adam(model.parameters())"
   ]
  },
  {
   "cell_type": "code",
   "execution_count": 10,
   "id": "6f800308",
   "metadata": {},
   "outputs": [
    {
     "name": "stdout",
     "output_type": "stream",
     "text": [
      "#Trainable Parameters: 2689\n"
     ]
    }
   ],
   "source": [
    "n_trainable_params = sum((p.numel() for p in model.parameters() if p.requires_grad))\n",
    "print(\"#Trainable Parameters: %i\" % n_trainable_params)"
   ]
  },
  {
   "cell_type": "code",
   "execution_count": 12,
   "id": "80b4d939",
   "metadata": {},
   "outputs": [
    {
     "name": "stdout",
     "output_type": "stream",
     "text": [
      "2.088257133960724\n",
      "2.046960771083832\n",
      "2.1164071559906006\n",
      "2.0210236310958862\n",
      "2.0359984636306763\n",
      "2.0327056646347046\n",
      "1.9874212145805359\n",
      "1.9829522967338562\n",
      "1.9522855877876282\n",
      "2.045971095561981\n",
      "2.058537006378174\n",
      "2.089433431625366\n",
      "2.106914222240448\n",
      "2.0172876119613647\n",
      "2.005183517932892\n",
      "2.013204276561737\n",
      "2.0451966524124146\n",
      "1.9776143431663513\n",
      "2.0099229216575623\n",
      "1.9933056235313416\n",
      "1.9899924397468567\n",
      "2.004766583442688\n",
      "1.9474824666976929\n",
      "1.9656883478164673\n",
      "2.012056529521942\n",
      "1.9365354180335999\n",
      "1.9883379936218262\n",
      "1.9481623768806458\n",
      "1.91921466588974\n",
      "1.9738876223564148\n",
      "1.9648289680480957\n",
      "1.9492599368095398\n",
      "1.984373152256012\n",
      "1.9628809094429016\n",
      "1.9049542546272278\n",
      "2.010159492492676\n",
      "1.9502894878387451\n",
      "1.9784687757492065\n",
      "1.9289073944091797\n",
      "1.935418963432312\n",
      "1.986329197883606\n",
      "1.9656036496162415\n",
      "1.9228374361991882\n",
      "1.9117478132247925\n",
      "1.9541298151016235\n",
      "1.9317827820777893\n",
      "1.9424652457237244\n",
      "1.889069139957428\n",
      "1.8679074048995972\n",
      "1.939570665359497\n",
      "1.8550596833229065\n",
      "1.895934522151947\n",
      "1.954360008239746\n",
      "1.8872548341751099\n",
      "1.8949156999588013\n",
      "1.937080442905426\n",
      "1.9653462171554565\n",
      "1.9377756714820862\n",
      "1.8524219989776611\n",
      "1.8756181597709656\n",
      "1.897441327571869\n",
      "1.8754807114601135\n",
      "1.8562726378440857\n",
      "1.8991656303405762\n",
      "1.863383948802948\n",
      "1.888885498046875\n",
      "1.8859804272651672\n",
      "1.8645712733268738\n",
      "1.831196904182434\n",
      "1.8332642912864685\n",
      "1.8085243701934814\n",
      "1.8241308331489563\n",
      "1.8936211466789246\n",
      "1.8737300038337708\n",
      "1.8375778198242188\n",
      "1.86564701795578\n",
      "1.8139538168907166\n",
      "1.8029252290725708\n",
      "1.8848299384117126\n",
      "1.7873639464378357\n",
      "1.9204444289207458\n",
      "1.7824184894561768\n",
      "1.888476848602295\n",
      "1.8071154356002808\n",
      "1.8615891337394714\n",
      "1.82109797000885\n",
      "1.7780582904815674\n",
      "1.8219583630561829\n",
      "1.7766217589378357\n",
      "1.8330291509628296\n",
      "1.7717691659927368\n",
      "1.772124469280243\n",
      "1.804688811302185\n",
      "1.7768203616142273\n",
      "1.7899379134178162\n",
      "1.7692312002182007\n",
      "1.8121839761734009\n",
      "1.7565224766731262\n",
      "1.7753368020057678\n",
      "1.8468394875526428\n"
     ]
    }
   ],
   "source": [
    "# train the first hierarchy\n",
    "for _ in range(100):\n",
    "    running_loss = 0\n",
    "    for x, mask, candidates, labels in loader:\n",
    "        # predict and compute loss\n",
    "        logits = model.forward(x, mask, candidates)\n",
    "        loss = F.binary_cross_entropy_with_logits(logits, labels)\n",
    "        # optimize\n",
    "        optim.zero_grad()\n",
    "        loss.backward()\n",
    "        optim.step()\n",
    "        \n",
    "        running_loss += loss.item()\n",
    "    \n",
    "    print(running_loss)"
   ]
  },
  {
   "cell_type": "code",
   "execution_count": null,
   "id": "56906653",
   "metadata": {},
   "outputs": [],
   "source": []
  }
 ],
 "metadata": {
  "kernelspec": {
   "display_name": "Python 3",
   "language": "python",
   "name": "python3"
  },
  "language_info": {
   "codemirror_mode": {
    "name": "ipython",
    "version": 3
   },
   "file_extension": ".py",
   "mimetype": "text/x-python",
   "name": "python",
   "nbconvert_exporter": "python",
   "pygments_lexer": "ipython3",
   "version": "3.8.11"
  }
 },
 "nbformat": 4,
 "nbformat_minor": 5
}
